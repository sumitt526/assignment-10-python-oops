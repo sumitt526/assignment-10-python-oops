{
 "cells": [
  {
   "cell_type": "code",
   "execution_count": null,
   "id": "9a1105e0-ca3c-47b3-a4e7-fbc3dc6d3a16",
   "metadata": {},
   "outputs": [],
   "source": [
    "#qsn1 solution:-\n",
    "\n",
    "class vehicle:\n",
    "    \n",
    "    def __init__(self, name_of_vehicle,max_speed,average_of_vehicle):\n",
    "        self.name_of_vehicle = name_of_vehicle\n",
    "        self.max_speed = max_speed\n",
    "        self.average_of_vehicle = average_of_vehicle"
   ]
  },
  {
   "cell_type": "code",
   "execution_count": 9,
   "id": "f4bf145a-27d8-4577-afae-eec67ab0b858",
   "metadata": {},
   "outputs": [],
   "source": [
    "#qsn2 solution:-\n",
    "\n",
    "class vehicle:\n",
    "    \n",
    "    def __init__(self, name_of_vehicle,max_speed,average_of_vehicle):\n",
    "        self.name_of_vehicle = name_of_vehicle\n",
    "        self.max_speed = max_speed\n",
    "        self.average_of_vehicle = average_of_vehicle\n",
    "        \n",
    "class car(vehicle):\n",
    "    \n",
    "    def seating_capacity(self, capacity):\n",
    "        self.capacity = capacity\n",
    "        return 'the vehicle is',self.name_of_vehicle,'and it\"s seating capacity is', self.capacity\n",
    "        "
   ]
  },
  {
   "cell_type": "code",
   "execution_count": 12,
   "id": "ce0c3dca-56d4-4621-9c45-667c39504cc4",
   "metadata": {},
   "outputs": [],
   "source": [
    "obj_car = car(\"hyundai-i10\", \"500kmph\", \"22kmpl\")"
   ]
  },
  {
   "cell_type": "code",
   "execution_count": 13,
   "id": "434b5f0e-7c76-48dc-84d7-da1a2d42c194",
   "metadata": {},
   "outputs": [
    {
     "data": {
      "text/plain": [
       "('the vehicle is', 'hyundai-i10', 'and it\"s seating capacity is', 5)"
      ]
     },
     "execution_count": 13,
     "metadata": {},
     "output_type": "execute_result"
    }
   ],
   "source": [
    "obj_car.seating_capacity(5)"
   ]
  },
  {
   "cell_type": "code",
   "execution_count": 14,
   "id": "6f9370f2-354d-4e3b-862d-c66e14be993e",
   "metadata": {},
   "outputs": [],
   "source": [
    "obj_car2 = car(\"lamborghini\", \"2000kmph\", \"10kmpl\")"
   ]
  },
  {
   "cell_type": "code",
   "execution_count": 16,
   "id": "34c41c5a-9f8f-4485-8752-81503c2d2e29",
   "metadata": {},
   "outputs": [
    {
     "data": {
      "text/plain": [
       "('the vehicle is', 'lamborghini', 'and it\"s seating capacity is', 2)"
      ]
     },
     "execution_count": 16,
     "metadata": {},
     "output_type": "execute_result"
    }
   ],
   "source": [
    "obj_car2.seating_capacity(2)"
   ]
  },
  {
   "cell_type": "code",
   "execution_count": 58,
   "id": "f1ae4c06-e937-4311-8976-2d2d2061abfe",
   "metadata": {},
   "outputs": [],
   "source": [
    "#qsn3 solution:-\n",
    "'''\n",
    "multiple inheritance:- Multiple inheritance enables one derived class to inherit properties from more than one base class.\n",
    "let's see an example for a better understanding:- '''\n",
    "\n",
    "class test:\n",
    "    \n",
    "    def dream(): \n",
    "        return \"my dream is to become an MLOps engineer\""
   ]
  },
  {
   "cell_type": "code",
   "execution_count": 59,
   "id": "7c522e74-a0c5-4ada-bc8e-fac0d0f522b5",
   "metadata": {},
   "outputs": [],
   "source": [
    "class test2:\n",
    "    \n",
    "    def strategy():\n",
    "        return \"by enrolling in pwskills data science masters course and putting hardwork\""
   ]
  },
  {
   "cell_type": "code",
   "execution_count": 60,
   "id": "7b977e70-5938-4044-8362-d22e75a2e3a3",
   "metadata": {},
   "outputs": [],
   "source": [
    "class test3(test , test2):\n",
    "    pass"
   ]
  },
  {
   "cell_type": "code",
   "execution_count": 61,
   "id": "65d74f75-515d-4b76-97a5-2d78e1395afc",
   "metadata": {},
   "outputs": [],
   "source": [
    "obj_test3 = test3"
   ]
  },
  {
   "cell_type": "code",
   "execution_count": 62,
   "id": "55ae6393-f3b7-4c7d-8ea0-fd7ff04c89e1",
   "metadata": {},
   "outputs": [
    {
     "data": {
      "text/plain": [
       "'my dream is to become an MLOps engineer'"
      ]
     },
     "execution_count": 62,
     "metadata": {},
     "output_type": "execute_result"
    }
   ],
   "source": [
    "obj_test3.dream()"
   ]
  },
  {
   "cell_type": "code",
   "execution_count": 63,
   "id": "adf16cf0-7214-4c6b-8067-ea8227f26b9b",
   "metadata": {},
   "outputs": [
    {
     "data": {
      "text/plain": [
       "'by enrolling in pwskills data science masters course and putting hardwork'"
      ]
     },
     "execution_count": 63,
     "metadata": {},
     "output_type": "execute_result"
    }
   ],
   "source": [
    "obj_test3.strategy()"
   ]
  },
  {
   "cell_type": "code",
   "execution_count": 7,
   "id": "7c2a5335-2a74-46ae-a35c-4ff409e72e87",
   "metadata": {},
   "outputs": [],
   "source": [
    "#qsn4 solution:-\n",
    "\n",
    "'''getter and setter are nothing but just a method to get the value and to set the value respectively of the variables inside the class.\n",
    "   when u don't want the user to directly access the info inside the class and do changes then we peovide getter and setter method for the\n",
    "   user to access the variable by calling get and set and proceed to change the values of variables but under certain condition and limitation.\n",
    "for example:-'''\n",
    "class aircraft:\n",
    "    \n",
    "    def __init__(self, name, speed, flying_range):\n",
    "        self.__name = name\n",
    "        self.__speed = speed\n",
    "        self.__flying_range = flying_range\n",
    "        \n",
    "    def set_speed(self, speed):\n",
    "        self.__speed = 0 if speed <= 0 else speed\n",
    "        \n",
    "    def get_speed(self):\n",
    "        return self.__speed"
   ]
  },
  {
   "cell_type": "code",
   "execution_count": 8,
   "id": "0479ba81-3fc4-4f7e-b1e9-853ba2314c8f",
   "metadata": {},
   "outputs": [],
   "source": [
    "y = aircraft(\"tejas\", \"4\", \"7000km\" )"
   ]
  },
  {
   "cell_type": "code",
   "execution_count": 9,
   "id": "606990a7-ce49-40e8-96bb-00f833ac9cc4",
   "metadata": {},
   "outputs": [
    {
     "data": {
      "text/plain": [
       "'4'"
      ]
     },
     "execution_count": 9,
     "metadata": {},
     "output_type": "execute_result"
    }
   ],
   "source": [
    "y.get_speed()"
   ]
  },
  {
   "cell_type": "code",
   "execution_count": 10,
   "id": "cb16a017-c829-4558-85f4-479a5c0863fe",
   "metadata": {},
   "outputs": [],
   "source": [
    "y.set_speed(5)"
   ]
  },
  {
   "cell_type": "code",
   "execution_count": 11,
   "id": "3ae49eb8-1fa5-439a-92ee-68160f5cbadf",
   "metadata": {},
   "outputs": [
    {
     "data": {
      "text/plain": [
       "5"
      ]
     },
     "execution_count": 11,
     "metadata": {},
     "output_type": "execute_result"
    }
   ],
   "source": [
    "y.get_speed()"
   ]
  },
  {
   "cell_type": "code",
   "execution_count": null,
   "id": "ab828733-d447-4c72-b8e2-ab6b8af91315",
   "metadata": {},
   "outputs": [],
   "source": [
    "'''so above here we can see the get and set method through which we can access the variable and change the values of it under certain condition\n",
    "   without directly accessing the private variables of class.'''"
   ]
  },
  {
   "cell_type": "code",
   "execution_count": 12,
   "id": "8139cb41-813f-4851-9bf0-c09fbd0de570",
   "metadata": {},
   "outputs": [],
   "source": [
    "#qsn5 solution:-\n",
    "\n",
    "'''What ever members available in the parent class are bydefault available to the child class through \n",
    "inheritance and if the child class is not satisfied with parent class implementation then child class is \n",
    "allowed to redefine that method in the child class based on its requirement, This concept is called \n",
    "overriding.\n",
    "Overriding concept is applicable for both method and constructor.\n",
    "let's see an example of method overriding:- '''\n",
    "\n",
    "class parent:\n",
    "    \n",
    "    def trip(self):\n",
    "        print(\"let's got to goa\")\n",
    "        \n",
    "    def mom(self):\n",
    "        print(\"no let's go to canada\")\n"
   ]
  },
  {
   "cell_type": "code",
   "execution_count": 13,
   "id": "15d013d8-d485-42be-adbe-1cc4c22bf25c",
   "metadata": {},
   "outputs": [],
   "source": [
    "class child(parent):\n",
    "    def mom(self):\n",
    "        print(\"sorry the heaven is in uttarakhand devbhoomi let's go there\")"
   ]
  },
  {
   "cell_type": "code",
   "execution_count": 15,
   "id": "119e280a-eec6-4a0e-af7d-90a000ef67c1",
   "metadata": {},
   "outputs": [],
   "source": [
    "review = child()"
   ]
  },
  {
   "cell_type": "code",
   "execution_count": 16,
   "id": "cb16d9a3-6e0d-4488-985e-d7c8a6f6314a",
   "metadata": {},
   "outputs": [
    {
     "name": "stdout",
     "output_type": "stream",
     "text": [
      "let's got to goa\n"
     ]
    }
   ],
   "source": [
    "review.trip()"
   ]
  },
  {
   "cell_type": "code",
   "execution_count": 17,
   "id": "7c5aa16b-ecd6-488d-947c-9ca5b1b99e46",
   "metadata": {},
   "outputs": [
    {
     "name": "stdout",
     "output_type": "stream",
     "text": [
      "sorry the heaven is in uttarakhand devbhoomi let's go there\n"
     ]
    }
   ],
   "source": [
    "review.mom()"
   ]
  },
  {
   "cell_type": "code",
   "execution_count": null,
   "id": "1cb9ef29-98e0-4b5b-9062-b9bda92a4acb",
   "metadata": {},
   "outputs": [],
   "source": []
  }
 ],
 "metadata": {
  "kernelspec": {
   "display_name": "Python 3 (ipykernel)",
   "language": "python",
   "name": "python3"
  },
  "language_info": {
   "codemirror_mode": {
    "name": "ipython",
    "version": 3
   },
   "file_extension": ".py",
   "mimetype": "text/x-python",
   "name": "python",
   "nbconvert_exporter": "python",
   "pygments_lexer": "ipython3",
   "version": "3.10.8"
  }
 },
 "nbformat": 4,
 "nbformat_minor": 5
}
